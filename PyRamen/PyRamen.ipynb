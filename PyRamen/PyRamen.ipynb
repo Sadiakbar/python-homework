{
 "cells": [
  {
   "cell_type": "markdown",
   "id": "f720028d-7391-4a8f-9325-db71b348a47b",
   "metadata": {},
   "source": [
    "# Automate Your Day Job with Python - (Homework Assignment 2) - Sadia Akbar\n",
    "\n",
    "\n",
    "## Exercise 2 - PyRamen"
   ]
  },
  {
   "cell_type": "code",
   "execution_count": 2,
   "id": "dd426906-882b-4cf7-a253-1b1c95fd6916",
   "metadata": {
    "collapsed": true,
    "jupyter": {
     "outputs_hidden": true
    },
    "tags": []
   },
   "outputs": [
    {
     "data": {
      "text/plain": [
       "'PyRamen Homework Starter.'"
      ]
     },
     "execution_count": 2,
     "metadata": {},
     "output_type": "execute_result"
    }
   ],
   "source": [
    "\"\"\"PyRamen Homework Starter.\"\"\""
   ]
  },
  {
   "cell_type": "markdown",
   "id": "92d99cfb-88f7-4338-88ee-6ffa9a6960b1",
   "metadata": {},
   "source": [
    "### Read the Data"
   ]
  },
  {
   "cell_type": "code",
   "execution_count": 3,
   "id": "277153df-c10a-4c45-bed3-50023e1ce4d2",
   "metadata": {},
   "outputs": [],
   "source": [
    "#Import libraries\n",
    "from pathlib import Path\n",
    "import csv"
   ]
  },
  {
   "cell_type": "code",
   "execution_count": null,
   "id": "8d3a8b54-4b35-479a-b52c-80d0337ef452",
   "metadata": {},
   "outputs": [],
   "source": [
    "# Initialize list objects to hold our menu and sales data\n",
    "menu = []\n",
    "sales = []"
   ]
  },
  {
   "cell_type": "code",
   "execution_count": 27,
   "id": "75a54109-d26a-4c18-b861-a4da6340c38d",
   "metadata": {
    "tags": []
   },
   "outputs": [],
   "source": [
    "# Read in the menu data into the menu list\n",
    "with open('menu_data.csv', 'r') as csvfile:\n",
    "    csvreader = csv.reader(csvfile,delimiter = ',')\n",
    "    csv_header = next(csvreader)\n",
    "    menu.append(csv_header)"
   ]
  },
  {
   "cell_type": "code",
   "execution_count": 26,
   "id": "c14ca26b-c5f1-498b-99e0-c95b1266096f",
   "metadata": {},
   "outputs": [],
   "source": [
    "# Read in the sales data into the sales list\n",
    "with open('sales_data.csv', 'r') as csvfile:\n",
    "    csvreader = csv.reader(csvfile,delimiter = ',')\n",
    "    csv_header1 = next(csvreader)\n",
    "    sales.append(csv_header1)"
   ]
  },
  {
   "cell_type": "markdown",
   "id": "5b7fd5b3-e368-49b1-ae48-0bf7128fe95d",
   "metadata": {},
   "source": [
    "### Manipulate the Data"
   ]
  },
  {
   "cell_type": "code",
   "execution_count": 28,
   "id": "088ab06f-db8f-4a4e-9777-0bcd9bfcbd81",
   "metadata": {},
   "outputs": [],
   "source": [
    "# Initialize dict object to hold our key-value pairs of items and metrics\n",
    "report = {}\n",
    "\n",
    "# Initialize a row counter variable\n",
    "row_count = 0\n",
    "\n",
    "# Loop over every row in the sales list object\n",
    "\n",
    "\n",
    "\n",
    "    # Line_Item_ID,Date,Credit_Card_Number,Quantity,Menu_Item\n",
    "   \n",
    "    # @TODO: Initialize sales data variables\n",
    "\n",
    "\n",
    "    # @TODO:\n",
    "    # If the item value not in the report, add it as a new entry with initialized metrics\n",
    "    # Naming convention allows the keys to be ordered in logical fashion, count, revenue, cost, profit\n",
    "\n",
    "\n",
    "\n",
    "\n",
    "\n",
    "\n",
    "\n",
    "\n",
    "    # @TODO: For every row in our sales data, loop over the menu records to determine a match\n",
    "\n",
    "\n",
    "        # Item,Category,Description,Price,Cost\n",
    "        # @TODO: Initialize menu data variables\n",
    "\n",
    "\n",
    "\n",
    "\n",
    "        # @TODO: Calculate profit of each item in the menu data\n",
    "\n",
    "\n",
    "        # @TODO: If the item value in our sales data is equal to the any of the items in the menu, then begin tracking metrics for that item\n",
    "\n",
    "\n",
    "            # @TODO: Print out matching menu data\n",
    "\n",
    "\n",
    "\n",
    "\n",
    "\n",
    "\n",
    "            # @TODO: Cumulatively add up the metrics for each item key\n",
    "\n",
    "\n",
    "\n",
    "\n",
    "\n",
    "        # @TODO: Else, the sales item does not equal any fo the item in the menu data, therefore no match\n",
    "\n",
    "\n",
    "\n",
    "    # @TODO: Increment the row counter by 1\n",
    "\n",
    "\n",
    "# @TODO: Print total number of records in sales data\n",
    "\n",
    "\n",
    "\n",
    "\n",
    "# @TODO: Write out report to a text file (won't appear on the command line output)"
   ]
  },
  {
   "cell_type": "code",
   "execution_count": null,
   "id": "29288a99-b588-42e9-8feb-68d780e355d5",
   "metadata": {},
   "outputs": [],
   "source": []
  },
  {
   "cell_type": "code",
   "execution_count": null,
   "id": "9ae35af2-24c1-4d41-baaa-cacab0c67158",
   "metadata": {},
   "outputs": [],
   "source": []
  }
 ],
 "metadata": {
  "kernelspec": {
   "display_name": "Python 3",
   "language": "python",
   "name": "python3"
  },
  "language_info": {
   "codemirror_mode": {
    "name": "ipython",
    "version": 3
   },
   "file_extension": ".py",
   "mimetype": "text/x-python",
   "name": "python",
   "nbconvert_exporter": "python",
   "pygments_lexer": "ipython3",
   "version": "3.8.8"
  }
 },
 "nbformat": 4,
 "nbformat_minor": 5
}
