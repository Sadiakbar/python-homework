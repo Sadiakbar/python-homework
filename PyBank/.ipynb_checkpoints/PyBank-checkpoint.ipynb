{
 "cells": [
  {
   "cell_type": "markdown",
   "id": "8d3d9a89-3f75-4236-87f7-e32076de1387",
   "metadata": {},
   "source": [
    "# Automate Your Day Job with Python - (Homework Assignment 2) - Sadia Akbar\n",
    "\n",
    "\n",
    "## Exercise 1 - PyBank"
   ]
  },
  {
   "cell_type": "code",
   "execution_count": null,
   "id": "f371cd29-242c-4772-a33f-2a45c7196225",
   "metadata": {},
   "outputs": [],
   "source": [
    "'''\n",
    "Pseudocode to create a a Python script for analyzing the financial records of PyBank\n",
    "1. Import the csv file we are going to work on in Python, set the file path, and access the file as read only. \n",
    "2. Separate the heading from the rest of the data through a code.\n",
    "3. Initialize required variables to a float, \"total_months\", \"total_amount\", \"net_change\", \"total_change\", \"min_change\", \"max_change\", \"min_month\", \"max_month\"\n",
    "4. Use a for loop, iterate through, count the total number of months.\n",
    "5. Use a for loop, iterate through, sum up the profit/loss column.\n",
    "6. Use if function to calculate the net change and to total/sum the net change.\n",
    "7. Use if and else if functions to determin the maximum (greatest) and minimum (decrease) change and the months these were incurred.\n",
    "8. Set formula to calculate the net period (different from 'total period') and compute the \"avg_change\" by dividing \"net_change\" by the period of length of change, not \"total_months\"\n",
    "9. Print analysis to the terminal and export text file with results.\n",
    "'''"
   ]
  },
  {
   "cell_type": "code",
   "execution_count": 1,
   "id": "56162189-1b38-4dc6-9e90-6662f61821cd",
   "metadata": {},
   "outputs": [],
   "source": [
    "# Import the pathlib and csv library\n",
    "from pathlib import Path\n",
    "import csv"
   ]
  },
  {
   "cell_type": "code",
   "execution_count": 2,
   "id": "747d7da3-37d8-486f-bacc-6db513b91e00",
   "metadata": {},
   "outputs": [],
   "source": [
    "# Put all of the profits and losses into a list:\n",
    "profit_losses = []"
   ]
  },
  {
   "cell_type": "code",
   "execution_count": 3,
   "id": "736cb5fb-a819-4189-a70d-128d96c001e0",
   "metadata": {},
   "outputs": [
    {
     "name": "stdout",
     "output_type": "stream",
     "text": [
      "Financial Analysis\n",
      "---------------------------------------\n",
      "Total Months: 86\n",
      "Total: $38382578\n",
      "Average Change: $-2315.12\n",
      "Greatest Increase in Profits: Feb-2012 ($1926159)\n",
      "Greatest Decrease in Profits: Sep-2013 ($-2196167)\n"
     ]
    }
   ],
   "source": [
    "# Open the csv file as read only:\n",
    "with open('budget_data.csv', 'r') as csvfile:\n",
    "    csvreader = csv.reader(csvfile,delimiter = ',')\n",
    "    \n",
    "    # We will run a piece of code that will separate the heading from the data, so that when we do the analysis, the headers are not taken as part of the data for analysis:\n",
    "    csv_header = next(csvreader)\n",
    "    \n",
    "    # In order to run the next set of codes to complete the analysis we will need initialize the metric values for total months, amount, and change, the net change, \n",
    "    # the min and max change and the respective months:\n",
    "    total_months = 0\n",
    "    total_amount = 0\n",
    "    net_change = 0\n",
    "    total_change = 0\n",
    "    min_change = 0\n",
    "    max_change = 0\n",
    "    min_month = 0\n",
    "    max_month = 0\n",
    "    \n",
    "    # The for loop will help us to determine the total number of months and the total amount from the csv file:\n",
    "    for pnl in csvreader:\n",
    "        \n",
    "        total_months += 1\n",
    "        total_amount += int(pnl[1])\n",
    "        current = int(pnl[1])\n",
    "        \n",
    "    # Now we will use the if function to determine the net change over the period of the total months and the total of the change to calculate our next variables. \n",
    "    # The idea is to calculate a running difference between the profit or loss of the current and previous month till we reach the end of the data, and that should give us our net change.\n",
    "    # We will then add the net change with the running sum of total change to get a final value, to help us calculate the average in a later step\n",
    "    \n",
    "        if total_months > 1:\n",
    "            net_change = current - previous\n",
    "        previous = current\n",
    "        total_change = total_change + net_change\n",
    "        \n",
    "    # We will determine the maximum change and the miminum change and the respective months it happened under the same loop. \n",
    "        \n",
    "        if min_change == 0:\n",
    "            min_change = net_change\n",
    "            min_month = pnl[0]\n",
    "        elif net_change < min_change:\n",
    "            min_change = net_change\n",
    "            min_month = pnl[0]\n",
    "        if net_change > max_change:\n",
    "            max_change = net_change\n",
    "            max_month = pnl[0]\n",
    "        \n",
    "    # We will calculate the average change first which should be over a period of total months less 1, that is, 85, because we need to calculate the average of 'change' not the 'total'\n",
    "    \n",
    "    net_period = total_months - 1\n",
    "    avg_change = round(total_change / net_period,2)\n",
    "            \n",
    "    # Lastly, we will print the results to the terminal:      \n",
    "    print(f\"Financial Analysis\")\n",
    "    print(f\"---------------------------------------\")\n",
    "    print(f\"Total Months:\", total_months)\n",
    "    print(f\"Total: ${total_amount}\")\n",
    "    print(f\"Average Change: ${avg_change}\")\n",
    "    print(f\"Greatest Increase in Profits: {max_month} (${max_change})\")\n",
    "    print(f\"Greatest Decrease in Profits: {min_month} (${min_change})\")"
   ]
  },
  {
   "cell_type": "code",
   "execution_count": 4,
   "id": "3f4de9d1-6423-4c18-853c-421427634fd1",
   "metadata": {},
   "outputs": [],
   "source": [
    "# Finally we will export the results in a text file. To do that, we will set an output Path first:\n",
    "# We are going to name this file 'results.txt'\n",
    "\n",
    "output_path = Path('results.txt')"
   ]
  },
  {
   "cell_type": "code",
   "execution_count": 5,
   "id": "14a5ee8e-4096-4d5d-8894-816d106ae7fa",
   "metadata": {},
   "outputs": [],
   "source": [
    "# Next we will create the text file and write the data to this file as displayed on the terminal above: \n",
    "\n",
    "with open (output_path, 'w') as file:\n",
    "    file.write(f\"Financial Analysis \\n\")\n",
    "    file.write(f\"---------------------------------- \\n\")\n",
    "    file.write(f\"Total Months: {total_months} \\n\")\n",
    "    file.write(f\"Total: ${total_amount} \\n\")\n",
    "    file.write(f\"Average Change: ${avg_change} \\n\")\n",
    "    file.write(f\"Greatest Increase in Profits: {max_month} (${max_change}) \\n\")\n",
    "    file.write(f\"Greatest Decrease in Profits: {min_month} (${min_change}) \\n\")"
   ]
  }
 ],
 "metadata": {
  "kernelspec": {
   "display_name": "Python 3",
   "language": "python",
   "name": "python3"
  },
  "language_info": {
   "codemirror_mode": {
    "name": "ipython",
    "version": 3
   },
   "file_extension": ".py",
   "mimetype": "text/x-python",
   "name": "python",
   "nbconvert_exporter": "python",
   "pygments_lexer": "ipython3",
   "version": "3.8.8"
  }
 },
 "nbformat": 4,
 "nbformat_minor": 5
}
